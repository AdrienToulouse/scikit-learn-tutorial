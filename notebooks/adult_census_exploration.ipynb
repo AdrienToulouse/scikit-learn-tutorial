{
 "cells": [
  {
   "cell_type": "markdown",
   "metadata": {},
   "source": [
    "In this notebook, we will look at necessary steps that happen before any machine learning takes place. \n",
    "* load the data\n",
    "* look at the variables in the dataset, in particular make the difference\n",
    "  between numerical and categorical variables, which need different\n",
    "  preprocessing in most machine learning workflows\n",
    "* visualize the distribution of the variables to gain some insights into the dataset."
   ]
  },
  {
   "cell_type": "code",
   "execution_count": null,
   "metadata": {},
   "outputs": [],
   "source": [
    "# Inline plots\n",
    "%matplotlib inline\n",
    "\n",
    "# plotting style\n",
    "import seaborn as sns\n",
    "sns.set_context('talk')"
   ]
  },
  {
   "cell_type": "markdown",
   "metadata": {},
   "source": [
    "## Loading the adult census dataset"
   ]
  },
  {
   "cell_type": "markdown",
   "metadata": {},
   "source": [
    "We will use data from the \"Current Population adult_census\" from 1994 that we\n",
    "downloaded from [OpenML](http://openml.org/)."
   ]
  },
  {
   "cell_type": "code",
   "execution_count": null,
   "metadata": {},
   "outputs": [],
   "source": [
    "import pandas as pd\n",
    "\n",
    "adult_census = pd.read_csv('datasets/adult-census.csv')"
   ]
  },
  {
   "cell_type": "markdown",
   "metadata": {},
   "source": [
    "We can look at the OpenML webpage to know more about this dataset."
   ]
  },
  {
   "cell_type": "code",
   "execution_count": null,
   "metadata": {
    "lines_to_next_cell": 2
   },
   "outputs": [],
   "source": [
    "from IPython.display import IFrame\n",
    "IFrame('https://www.openml.org/d/1590', width=1200, height=600)"
   ]
  },
  {
   "cell_type": "markdown",
   "metadata": {},
   "source": [
    "## Look at the variables in the dataset\n",
    "The data are stored in a pandas dataframe."
   ]
  },
  {
   "cell_type": "code",
   "execution_count": null,
   "metadata": {},
   "outputs": [],
   "source": [
    "adult_census.head()"
   ]
  },
  {
   "cell_type": "markdown",
   "metadata": {},
   "source": [
    "The column named **class** is our target variable (i.e., the variable which\n",
    "we want to predict). The two possible classes are `<= 50K` (low-revenue) and\n",
    "`> 50K` (high-revenue)."
   ]
  },
  {
   "cell_type": "code",
   "execution_count": null,
   "metadata": {},
   "outputs": [],
   "source": [
    "target_column = 'class'\n",
    "adult_census[target_column].unique()"
   ]
  },
  {
   "cell_type": "markdown",
   "metadata": {},
   "source": [
    "The dataset contains both numerical and categorical data. Numerical values\n",
    "can take continuous values for example `age`. Categorical values can have a\n",
    "finite number of values, for exemple `native-country`."
   ]
  },
  {
   "cell_type": "code",
   "execution_count": null,
   "metadata": {},
   "outputs": [],
   "source": [
    "numerical_columns = ['age', 'education-num', 'capital-gain', 'capital-loss',\n",
    "                     'hours-per-week']\n",
    "categorical_columns = ['workclass', 'education', 'marital-status', 'occupation',\n",
    "                       'relationship', 'race', 'sex', 'native-country']\n",
    "all_columns = numerical_columns + categorical_columns + [target_column]\n",
    "\n",
    "adult_census = adult_census[all_columns]"
   ]
  },
  {
   "cell_type": "markdown",
   "metadata": {},
   "source": [
    "Note that for simplicity, we have ignored the \"fnlwgt\" (final weight) column\n",
    "that was crafted by the creators of the dataset when sampling the dataset to\n",
    "be representative of the full census database."
   ]
  },
  {
   "cell_type": "markdown",
   "metadata": {},
   "source": [
    "## Visualize the data\n",
    "Before building a machine learning model, it is a good idea to look at the\n",
    "data:\n",
    "* maybe the task you are trying to achieve can be solved without machine\n",
    "  learning\n",
    "* you need to check that the data you need for your task is indeed present in the dataset\n",
    "* inspecting the data is a good way to find peculiarities. These can can\n",
    "  arise in the data collection (for example, malfunctioning sensor or missing\n",
    "  values), or the way the data is processed afterwards (for example capped\n",
    "  values)."
   ]
  },
  {
   "cell_type": "markdown",
   "metadata": {},
   "source": [
    "Let's look at the distribution of individual variables, to get some insights\n",
    "about the data. `pandas_profiling` is a nice tool for this."
   ]
  },
  {
   "cell_type": "code",
   "execution_count": null,
   "metadata": {},
   "outputs": [],
   "source": [
    "import pandas_profiling\n",
    "adult_census.profile_report()"
   ]
  },
  {
   "cell_type": "markdown",
   "metadata": {},
   "source": [
    "TODO: some comments about a few variables?\n",
    "* age: retired people are not in the dataset (`hours-per-week > 0`).\n",
    "\n",
    "* education num: peak at TODO and TODO probably correspond to under-graduate and masters?\n",
    "* hours per week around 40, this was probably the standard at the time\n",
    "\n",
    "TODO: show categorical variables distribution maybe?"
   ]
  },
  {
   "cell_type": "markdown",
   "metadata": {},
   "source": [
    "Another way to inspect the data is to do a pairplot and show how variable\n",
    "differ according to the class. In the diagonal you can see the distribution\n",
    "of individual variables. The plots on the off-diagonal can reveal interesting\n",
    "interactions between variables."
   ]
  },
  {
   "cell_type": "code",
   "execution_count": null,
   "metadata": {
    "lines_to_next_cell": 0
   },
   "outputs": [],
   "source": [
    "n_samples_to_plot = 5000\n",
    "columns = ['age', 'education-num', 'hours-per-week']\n",
    "sns.pairplot(data=adult_census[:n_samples_to_plot] , vars=columns,\n",
    "             hue=target_column, plot_kws={'alpha': 0.2}, height=4,\n",
    "             diag_kind='hist');\n",
    "\n",
    "# TODO talk about a few expected things that make sense:\n",
    "# * hours per week around 40, high-revenue work more, low-revenue part-time work\n",
    "# * education-num peak at TODO and TODO probably for undergraduate and masters?? low-revenue tail on the lhs\n",
    "# * age: young people have low-revenue.\n",
    "# * classes are slighly imbalanced. Class imbalance happens often in practice\n",
    "#   and may need special techniques for machine learning. For example in a\n",
    "#   medical setting, there are a lot less patients with a rare disease than sane\n",
    "#   patients."
   ]
  },
  {
   "cell_type": "code",
   "execution_count": null,
   "metadata": {},
   "outputs": [],
   "source": [
    "sns.pairplot(data=adult_census[:n_samples_to_plot], x_vars='age', y_vars='hours-per-week',\n",
    "             hue=target_column, markers=['o', 'v'], plot_kws={'alpha': 0.2}, height=12);"
   ]
  },
  {
   "cell_type": "markdown",
   "metadata": {
    "lines_to_next_cell": 2
   },
   "source": [
    "\n",
    "By looking at the data you could infer some hand-written rules to predict the\n",
    "class:\n",
    "* if you are young (less than 25 year-old roughly), you are in the `<= 50K` class.\n",
    "* if you are old (more than 70 year-old roughly), you are in the `<= 50K` class.\n",
    "* if you work part-time (less than 40 hours roughly) you are in the `<= 50K` class.\n",
    "\n",
    "These hand-writen rules could work reasonably well without the need for any\n",
    "machine learning. Note however that it is not very easy to create rules for\n",
    "the region `40 < hours-per-week < 60` and `30 < age < 70`. We can hope that\n",
    "machine learning can help in this region. Also note that visualization can\n",
    "help creating hand-written rules but is limited to 2 dimensions (maybe 3\n",
    "dimensions), whereas machine learning models can build models in\n",
    "high-dimensional spaces.\n",
    "\n",
    "Another thing worth mentioning in this plot: if you are young (less than 25\n",
    "year-old roughly) you tend to work less and if you are old (more than 70\n",
    "year-old roughly). This is a non-linear relationship between age and hours\n",
    "per week. Some machine learning models can capture only linear interaction so\n",
    "this may be important when deciding which model to chose."
   ]
  },
  {
   "cell_type": "markdown",
   "metadata": {},
   "source": [
    "\n",
    "In this notebook we have:\n",
    "* loaded the data from a CSV file using `pandas`\n",
    "* looked at the kind of variables in the dataset, and make the difference\n",
    "  between categorical and numerical variables.\n",
    "* inspected the data with `pandas_profiling` and `seaborn`. Data inspection\n",
    "  can allow you to decide whether using machine learning is appropriate for\n",
    "  your data and to notice potential peculiarities in your data."
   ]
  }
 ],
 "metadata": {
  "jupytext": {
   "formats": "notebooks//ipynb,markdown_files//md,python_scripts//py:percent"
  },
  "kernelspec": {
   "display_name": "Python 3",
   "language": "python",
   "name": "python3"
  }
 },
 "nbformat": 4,
 "nbformat_minor": 2
}
